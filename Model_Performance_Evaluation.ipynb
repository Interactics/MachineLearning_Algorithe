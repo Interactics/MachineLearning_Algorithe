{
  "nbformat": 4,
  "nbformat_minor": 0,
  "metadata": {
    "colab": {
      "name": "Model Performance Evaluation.ipynb",
      "provenance": [],
      "collapsed_sections": [],
      "authorship_tag": "ABX9TyPfhm27xOmEfGu1AAAK0wGj",
      "include_colab_link": true
    },
    "kernelspec": {
      "name": "python3",
      "display_name": "Python 3"
    }
  },
  "cells": [
    {
      "cell_type": "markdown",
      "metadata": {
        "id": "view-in-github",
        "colab_type": "text"
      },
      "source": [
        "<a href=\"https://colab.research.google.com/github/Interactics/MachineLearning_Supporters/blob/master/Model_Performance_Evaluation.ipynb\" target=\"_parent\"><img src=\"https://colab.research.google.com/assets/colab-badge.svg\" alt=\"Open In Colab\"/></a>"
      ]
    },
    {
      "cell_type": "markdown",
      "metadata": {
        "id": "-IGTvrpMKQ4H",
        "colab_type": "text"
      },
      "source": [
        "#Model Performance Evaluation\n",
        "##  Regression Model Evaluation\n",
        "### 1. Residual plot"
      ]
    },
    {
      "cell_type": "code",
      "metadata": {
        "id": "3WEYHd3YKPxS",
        "colab_type": "code",
        "colab": {}
      },
      "source": [
        "import matplotlib.pyplot as plt\n",
        "\n",
        "## Residual plot\n",
        "plt.figure(figsize = [10,10]) #Size of Plot\n",
        "plt.scatter(y_train_pred, y_train_pred - y_train,\n",
        "            c='steelblue', marker='o', edgecolor='white',\n",
        "            label='Training Data')\n",
        "plt.scatter(y_test_pred, y_test_pred - y_test,\n",
        "            c='limegreen', marker='s', edgecolor='white',\n",
        "            label='Test data')\n",
        "plt.xlabel('Predicted Values')\n",
        "plt.ylabel('Residuals')\n",
        "plt.legend(loc='upper left')\n",
        "plt.hlines(y=0, xmin=-10, xmax=50, color='black', lw = 2 )\n",
        "plt.xlim([-10, 50])\n",
        "plt.tight_layout()\n",
        "plt.show()"
      ],
      "execution_count": 0,
      "outputs": []
    },
    {
      "cell_type": "markdown",
      "metadata": {
        "id": "MDSw09dxK9HU",
        "colab_type": "text"
      },
      "source": [
        "### 2. Mean Squared Error (MSE)\n",
        "\n",
        "$ \\Large MSE = \\frac{1}{n}\\sum_{i = 1 }^{n} {(y^{i} - \\hat{y}^{(i)})^2} $\n",
        "\n"
      ]
    },
    {
      "cell_type": "code",
      "metadata": {
        "id": "0SK-cmrOK8vS",
        "colab_type": "code",
        "colab": {}
      },
      "source": [
        "from sklearn.metrics import mean_squared_error\n",
        "print(' Training MSE : %.3f, TEST MSE : %.3f' % (\n",
        "    mean_squared_error(y_train, y_train_pred),\n",
        "    mean_squared_error(y_test, y_test_pred)\n",
        "))"
      ],
      "execution_count": 0,
      "outputs": []
    },
    {
      "cell_type": "markdown",
      "metadata": {
        "id": "larN43bNLbl_",
        "colab_type": "text"
      },
      "source": [
        "### 3. Coefficient of determination (R2 Score)\n",
        "$ \\Large R^2 = 1 - \\frac{SSE}{SST} $\n",
        "\n",
        "$ \\Large SSE = \\text{Sum of Squre of Error}$\n",
        "\n",
        "$ \\Large SST = \\sum _{i=1} ^{n} {(y^{(i)}- \\mu_y)^2}$\n"
      ]
    },
    {
      "cell_type": "code",
      "metadata": {
        "id": "GvKVgLjgLhkG",
        "colab_type": "code",
        "colab": {
          "base_uri": "https://localhost:8080/",
          "height": 226
        },
        "outputId": "2088f0a5-4f84-45f4-fb7e-f548a9be4024"
      },
      "source": [
        "from sklearn.metrics import r2_score\n",
        "print ('Train R2 score : %.3f, Test R^2: %.3f' %\n",
        "       (r2_score(y_train, y_train_pred),\n",
        "       r2_score(y_test, y_test_pred))\n",
        "       )"
      ],
      "execution_count": 1,
      "outputs": [
        {
          "output_type": "error",
          "ename": "NameError",
          "evalue": "ignored",
          "traceback": [
            "\u001b[0;31m---------------------------------------------------------------------------\u001b[0m",
            "\u001b[0;31mNameError\u001b[0m                                 Traceback (most recent call last)",
            "\u001b[0;32m<ipython-input-1-6a9569613bc4>\u001b[0m in \u001b[0;36m<module>\u001b[0;34m()\u001b[0m\n\u001b[1;32m      1\u001b[0m \u001b[0;32mfrom\u001b[0m \u001b[0msklearn\u001b[0m\u001b[0;34m.\u001b[0m\u001b[0mmetrics\u001b[0m \u001b[0;32mimport\u001b[0m \u001b[0mr2_score\u001b[0m\u001b[0;34m\u001b[0m\u001b[0;34m\u001b[0m\u001b[0m\n\u001b[1;32m      2\u001b[0m print ('Train R2 score : %.3f, Test R^2: %.3f' %\n\u001b[0;32m----> 3\u001b[0;31m        \u001b[0mr2_score\u001b[0m\u001b[0;34m(\u001b[0m\u001b[0my_train\u001b[0m\u001b[0;34m,\u001b[0m \u001b[0my_train_pred\u001b[0m\u001b[0;34m)\u001b[0m\u001b[0;34m,\u001b[0m\u001b[0;34m\u001b[0m\u001b[0;34m\u001b[0m\u001b[0m\n\u001b[0m\u001b[1;32m      4\u001b[0m        r2_score(y_test, y_test_pred))\n",
            "\u001b[0;31mNameError\u001b[0m: name 'y_train' is not defined"
          ]
        }
      ]
    },
    {
      "cell_type": "code",
      "metadata": {
        "id": "xzLmDrSaN0_2",
        "colab_type": "code",
        "colab": {}
      },
      "source": [
        ""
      ],
      "execution_count": 0,
      "outputs": []
    }
  ]
}