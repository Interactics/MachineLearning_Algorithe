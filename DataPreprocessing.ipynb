{
  "nbformat": 4,
  "nbformat_minor": 0,
  "metadata": {
    "colab": {
      "name": "DataPreprocessing.ipynb",
      "provenance": [],
      "collapsed_sections": [],
      "authorship_tag": "ABX9TyO6DKMhoeKSFrrsVp+0Tzmj",
      "include_colab_link": true
    },
    "kernelspec": {
      "name": "python3",
      "display_name": "Python 3"
    }
  },
  "cells": [
    {
      "cell_type": "markdown",
      "metadata": {
        "id": "view-in-github",
        "colab_type": "text"
      },
      "source": [
        "<a href=\"https://colab.research.google.com/github/Interactics/MachineLearning_Supporters/blob/master/DataPreprocessing.ipynb\" target=\"_parent\"><img src=\"https://colab.research.google.com/assets/colab-badge.svg\" alt=\"Open In Colab\"/></a>"
      ]
    },
    {
      "cell_type": "markdown",
      "metadata": {
        "id": "q0jFHPdStJHn",
        "colab_type": "text"
      },
      "source": [
        "# 데이터 파일 전처리 프로세스\n",
        "### Step1 데이터 파일 가져오기\n",
        "### Step2 데이터프레임에서 원치 않은 텍스트 지우기\n",
        "### Step3 수정된 데이터프레임 데이터 저장하기.\n"
      ]
    },
    {
      "cell_type": "markdown",
      "metadata": {
        "id": "tn3BHFex62J6",
        "colab_type": "text"
      },
      "source": [
        "## 필요 모듈 import"
      ]
    },
    {
      "cell_type": "code",
      "metadata": {
        "id": "OpGOqG69snfE",
        "colab_type": "code",
        "colab": {}
      },
      "source": [
        "import pandas as pd\n",
        "from google.colab import drive \n",
        "drive.mount('/content/drive') \n"
      ],
      "execution_count": 0,
      "outputs": []
    },
    {
      "cell_type": "markdown",
      "metadata": {
        "id": "cT-dmyEj7DOz",
        "colab_type": "text"
      },
      "source": [
        "## 데이터프레임 설정\n",
        "### indexing\n",
        "### 데이터 정리\n",
        "### NULL 및 NaN 제거\n"
      ]
    },
    {
      "cell_type": "code",
      "metadata": {
        "id": "eyNHDi9z7Cib",
        "colab_type": "code",
        "colab": {}
      },
      "source": [
        "### 파일 이름 설정\n",
        "FileName = '0305WS2225origin'\n",
        "dataFile = '/content/' + FileName + '.txt'\n",
        "\n",
        "### Index 이름 설정\n",
        "Idx_arr =  ['time', \n",
        "             'MidHip_x', 'MidHip_y', 'MidHip_z',\n",
        "             'RHip_x', 'RHip_y', 'RHip_z', \n",
        "             'RKnee_x', 'RKnee_y', 'RKnee_z', 'RAnkle_x', \n",
        "             'RAnkle_y', 'RAnkle_z','LHip_x', 'LHip_y', 'LHip_z', \n",
        "             'LKnee_x', 'LKnee_y', 'LKnee_z', 'LAnkle_x', \n",
        "             'LAnkle_y', 'LAnkle_z','FOO', 'm_speed'\n",
        "             ]\n",
        "\n",
        "###\n",
        "#  해당 이름을 가진 파일을 끌어온 뒤, index 자동설정을 해제하고 \n",
        "#  띄어쓰기 기준으로 데이터를 분할한다.\n",
        "#  Index 이름은 Idx_arr으로 한다.\n",
        "###\n",
        "rawData = pd.read_csv(dataFile, index_col = False, sep=' ', names = Idx_arr)\n",
        "\n",
        "### 데이터 내 특정 문자 제거\n",
        "rawData = rawData.replace('\\(','', regex=True)\n",
        "rawData = rawData.replace('\\)','', regex=True)\n",
        "rawData = rawData.replace(',','', regex=True)\n",
        "rawData = rawData.replace('data:','', regex=True)\n",
        "\n",
        "#### Drop NULL\n",
        "nan_value = float(\"NaN\")\n",
        "rawData.replace(\"\", nan_value, inplace=True)\n",
        "rawData.dropna(inplace=True)\n",
        "\n",
        "\n",
        "### obeject 타입에서 numeric한 타입으로 변환 \n",
        "rawData = rawData.apply(pd.to_numeric)\n",
        "\n",
        "### 특정 열 제거\n",
        "del rawData['FOO']\n",
        "\n",
        "### 데이터 저장\n",
        "rawData.to_csv(FileName +'_refined' +'.csv')"
      ],
      "execution_count": 0,
      "outputs": []
    },
    {
      "cell_type": "markdown",
      "metadata": {
        "id": "LrMu3EWp7CZ3",
        "colab_type": "text"
      },
      "source": [
        ""
      ]
    },
    {
      "cell_type": "code",
      "metadata": {
        "id": "UAM9_XOuh0R5",
        "colab_type": "code",
        "colab": {}
      },
      "source": [
        ""
      ],
      "execution_count": 0,
      "outputs": []
    }
  ]
}