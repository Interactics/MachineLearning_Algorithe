{
  "nbformat": 4,
  "nbformat_minor": 0,
  "metadata": {
    "colab": {
      "name": "DataPreprocessing.ipynb",
      "provenance": [],
      "collapsed_sections": [],
      "authorship_tag": "ABX9TyPqZBNzv+YqrLkR72u6gLMt",
      "include_colab_link": true
    },
    "kernelspec": {
      "name": "python3",
      "display_name": "Python 3"
    }
  },
  "cells": [
    {
      "cell_type": "markdown",
      "metadata": {
        "id": "view-in-github",
        "colab_type": "text"
      },
      "source": [
        "<a href=\"https://colab.research.google.com/github/Interactics/MachineLearning_Supporters/blob/master/DataPreprocessing.ipynb\" target=\"_parent\"><img src=\"https://colab.research.google.com/assets/colab-badge.svg\" alt=\"Open In Colab\"/></a>"
      ]
    },
    {
      "cell_type": "markdown",
      "metadata": {
        "id": "q0jFHPdStJHn",
        "colab_type": "text"
      },
      "source": [
        "# 데이터 파일 전처리 프로세스\n",
        "### Step1 데이터 파일 가져오기\n",
        "### Step2 데이터프레임에서 원치 않은 텍스트 지우기\n",
        "### Step3 수정된 데이터프레임 데이터 저장하기.\n"
      ]
    },
    {
      "cell_type": "code",
      "metadata": {
        "id": "OpGOqG69snfE",
        "colab_type": "code",
        "outputId": "552b7083-0520-4c60-def7-73e55e99dd7a",
        "colab": {
          "base_uri": "https://localhost:8080/",
          "height": 35
        }
      },
      "source": [
        "import pandas as pd\n",
        "from google.colab import drive #google Drive 마운트용\n",
        "drive.mount('/content/drive') \n",
        "\n",
        "### 파일 이름 설정\n",
        "FileName = '0305WS2225origin'\n",
        "dataFile = '/content/' + FileName + '.txt'\n",
        "\n",
        "### Index 이름 설정\n",
        "Idx_arr =  ['time', \n",
        "             'MidHip_x', 'MidHip_y', 'MidHip_z',\n",
        "             'RHip_x', 'RHip_y', 'RHip_z', \n",
        "             'RKnee_x', 'RKnee_y', 'RKnee_z', 'RAnkle_x', \n",
        "             'RAnkle_y', 'RAnkle_z','LHip_x', 'LHip_y', 'LHip_z', \n",
        "             'LKnee_x', 'LKnee_y', 'LKnee_z', 'LAnkle_x', \n",
        "             'LAnkle_y', 'LAnkle_z','FOO', 'm_speed'\n",
        "             ]\n",
        "\n",
        "###\n",
        "#  해당 이름을 가진 파일을 끌어온 뒤, index 자동설정을 해제하고 \n",
        "#  띄어쓰기 기준으로 데이터를 분할한다.\n",
        "#  Index 이름은 Idx_arr으로 한다.\n",
        "###\n",
        "rawData = pd.read_csv(dataFile, index_col = False, sep=' ', names = Idx_arr)\n",
        "\n",
        "### 데이터 내 특정 문자 제거\n",
        "rawData = rawData.replace('\\(','', regex=True)\n",
        "rawData = rawData.replace('\\)','', regex=True)\n",
        "rawData = rawData.replace(',','', regex=True)\n",
        "rawData = rawData.replace('data:','', regex=True)\n",
        "\n",
        "### obeject 타입에서 numeric한 타입으로 변환 \n",
        "rawData = rawData.apply(pd.to_numeric)\n",
        "\n",
        "### 특정 열 제거\n",
        "del rawData['FOO']\n",
        "\n",
        "### 데이터 저장\n",
        "rawData.to_csv(FileName +'_refined' +'.csv')"
      ],
      "execution_count": 54,
      "outputs": [
        {
          "output_type": "stream",
          "text": [
            "Drive already mounted at /content/drive; to attempt to forcibly remount, call drive.mount(\"/content/drive\", force_remount=True).\n"
          ],
          "name": "stdout"
        }
      ]
    },
    {
      "cell_type": "code",
      "metadata": {
        "id": "IEozYYkesznN",
        "colab_type": "code",
        "colab": {
          "base_uri": "https://localhost:8080/",
          "height": 521
        },
        "outputId": "1728b01f-4f8f-4ad5-b329-55014e85067f"
      },
      "source": [
        "rawData.info()"
      ],
      "execution_count": 55,
      "outputs": [
        {
          "output_type": "stream",
          "text": [
            "<class 'pandas.core.frame.DataFrame'>\n",
            "RangeIndex: 856 entries, 0 to 855\n",
            "Data columns (total 23 columns):\n",
            "time        856 non-null float64\n",
            "MidHip_x    856 non-null int64\n",
            "MidHip_y    856 non-null int64\n",
            "MidHip_z    856 non-null int64\n",
            "RHip_x      856 non-null int64\n",
            "RHip_y      856 non-null int64\n",
            "RHip_z      856 non-null int64\n",
            "RKnee_x     856 non-null int64\n",
            "RKnee_y     856 non-null int64\n",
            "RKnee_z     856 non-null int64\n",
            "RAnkle_x    856 non-null int64\n",
            "RAnkle_y    856 non-null int64\n",
            "RAnkle_z    856 non-null int64\n",
            "LHip_x      856 non-null int64\n",
            "LHip_y      856 non-null int64\n",
            "LHip_z      856 non-null int64\n",
            "LKnee_x     856 non-null int64\n",
            "LKnee_y     856 non-null int64\n",
            "LKnee_z     856 non-null int64\n",
            "LAnkle_x    856 non-null int64\n",
            "LAnkle_y    856 non-null int64\n",
            "LAnkle_z    856 non-null int64\n",
            "m_speed     856 non-null float64\n",
            "dtypes: float64(2), int64(21)\n",
            "memory usage: 153.9 KB\n"
          ],
          "name": "stdout"
        }
      ]
    },
    {
      "cell_type": "code",
      "metadata": {
        "id": "UAM9_XOuh0R5",
        "colab_type": "code",
        "colab": {}
      },
      "source": [
        ""
      ],
      "execution_count": 0,
      "outputs": []
    }
  ]
}